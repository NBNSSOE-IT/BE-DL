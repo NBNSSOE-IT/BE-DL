{
  "cells": [
    {
      "cell_type": "code",
      "execution_count": null,
      "metadata": {
        "id": "-S1TAOGjQKi8"
      },
      "outputs": [],
      "source": [
        "import matplotlib.pyplot as plt\n",
        "import seaborn as sns\n",
        "import numpy as np"
      ]
    },
    {
      "cell_type": "code",
      "execution_count": null,
      "metadata": {
        "id": "1Ixf4cvWQT5C"
      },
      "outputs": [],
      "source": [
        "import re"
      ]
    },
    {
      "cell_type": "code",
      "execution_count": null,
      "metadata": {
        "id": "4XQfFvDaQVXl"
      },
      "outputs": [],
      "source": [
        "sentences = \"There was a time when he would have embraced the change that was coming. In his youth, he sought adventure and the unknown, but that had been years ago. He wished he could go back and learn to find the excitement that came with change but it was useless. That curiosity had long left him to where he had come to loathe anything that put him out of his comfort zone.\""
      ]
    },
    {
      "cell_type": "code",
      "execution_count": null,
      "metadata": {
        "id": "JH_fQckMQnRf"
      },
      "outputs": [],
      "source": [
        "# remove special character\n",
        "sentences = re.sub('[^A-Za-z0-9]+', ' ', sentences)\n",
        "\n",
        "#remove 1 letter word\n",
        "sentences = re.sub(r'(?:^| )\\w(?:$| )', ' ', sentences).strip()\n",
        "\n",
        "# Lower characters\n",
        "sentences = sentences.lower()"
      ]
    },
    {
      "cell_type": "code",
      "execution_count": null,
      "metadata": {
        "colab": {
          "base_uri": "https://localhost:8080/",
          "height": 108
        },
        "id": "EJTNC75QRsT8",
        "outputId": "da225c23-7274-491b-9814-3fd882e13a82"
      },
      "outputs": [
        {
          "data": {
            "application/vnd.google.colaboratory.intrinsic+json": {
              "type": "string"
            },
            "text/plain": [
              "'there was time when he would have embraced the change that was coming in his youth he sought adventure and the unknown but that had been years ago he wished he could go back and learn to find the excitement that came with change but it was useless that curiosity had long left him to where he had come to loathe anything that put him out of his comfort zone'"
            ]
          },
          "execution_count": 17,
          "metadata": {},
          "output_type": "execute_result"
        }
      ],
      "source": [
        "sentences"
      ]
    },
    {
      "cell_type": "code",
      "execution_count": null,
      "metadata": {
        "id": "HUOZsv5ZSClk"
      },
      "outputs": [],
      "source": [
        "words = sentences.split()\n",
        "vocab = set(words)"
      ]
    },
    {
      "cell_type": "code",
      "execution_count": null,
      "metadata": {
        "id": "RxoJinAwSR2U"
      },
      "outputs": [],
      "source": [
        "vocab_size= len(vocab)\n",
        "embed_dim = 10\n",
        "context_size = 2"
      ]
    },
    {
      "cell_type": "code",
      "execution_count": null,
      "metadata": {
        "id": "Rf24rAapSeY9"
      },
      "outputs": [],
      "source": [
        "word_to_ix = {word: i for i, word in enumerate(vocab)}\n",
        "ix_to_word = {i:word for i, word in enumerate(vocab)}"
      ]
    },
    {
      "cell_type": "code",
      "execution_count": null,
      "metadata": {
        "colab": {
          "base_uri": "https://localhost:8080/"
        },
        "id": "TKTy61QuSxY9",
        "outputId": "32657e59-db40-4900-a816-38406e69b054"
      },
      "outputs": [
        {
          "name": "stdout",
          "output_type": "stream",
          "text": [
            "[(['there', 'was', 'when', 'he'], 'time'), (['was', 'time', 'he', 'would'], 'when'), (['time', 'when', 'would', 'have'], 'he'), (['when', 'he', 'have', 'embraced'], 'would'), (['he', 'would', 'embraced', 'the'], 'have')]\n"
          ]
        }
      ],
      "source": [
        "data = []\n",
        "for i in range(2, len(words)-2):\n",
        "  context = [words[i-2], words[i-1], words[i+1], words[i+2]]\n",
        "  target = words[i]\n",
        "  data.append((context, target))\n",
        "print(data[:5])"
      ]
    },
    {
      "cell_type": "code",
      "execution_count": null,
      "metadata": {
        "id": "BSB_mw4ATVG4"
      },
      "outputs": [],
      "source": [
        "embeddings = np.random.random_sample((vocab_size, embed_dim))"
      ]
    },
    {
      "cell_type": "code",
      "execution_count": null,
      "metadata": {
        "colab": {
          "base_uri": "https://localhost:8080/"
        },
        "id": "MhobbXlfTj4j",
        "outputId": "b7234498-4e93-4f64-ea0f-ce17125d5ae0"
      },
      "outputs": [
        {
          "data": {
            "text/plain": [
              "(49, 10)"
            ]
          },
          "execution_count": 26,
          "metadata": {},
          "output_type": "execute_result"
        }
      ],
      "source": [
        "embeddings.shape"
      ]
    },
    {
      "cell_type": "code",
      "execution_count": null,
      "metadata": {
        "id": "AUwzCxhTT0l6"
      },
      "outputs": [],
      "source": [
        "def linear(m, theta):\n",
        "  w = theta\n",
        "  return m.dot(w)"
      ]
    },
    {
      "cell_type": "code",
      "execution_count": null,
      "metadata": {
        "id": "5XB1dGGmUivd"
      },
      "outputs": [],
      "source": [
        "def log_softmax(x):\n",
        "  e_x = np.exp(x - np.max(x))\n",
        "  return np.log(e_x/e_x.sum())"
      ]
    },
    {
      "cell_type": "code",
      "execution_count": null,
      "metadata": {
        "id": "LUn8Q1oHUub9"
      },
      "outputs": [],
      "source": [
        "def NLLLoss(logs, targets):\n",
        "  out = logs[range(len(targets)), targets]\n",
        "  return out.sum()/len(out)"
      ]
    },
    {
      "cell_type": "markdown",
      "metadata": {
        "id": "MgaIzscqa_Mp"
      },
      "source": [
        "Cross_entroy = log_softmax + NLLLoss"
      ]
    },
    {
      "cell_type": "code",
      "execution_count": null,
      "metadata": {
        "id": "YKjdaVawU8X5"
      },
      "outputs": [],
      "source": [
        "def cross_entropy(logits, target):\n",
        "  out = np.zeros_like(logits)\n",
        "  out[np.arange(len(logits)), target] = 1\n",
        "  softmax = np.exp(logits) / np.exp(logits).sum(axis=-1, keepdims=True)\n",
        "  return (-out+softmax) / logits.shape[0]"
      ]
    },
    {
      "cell_type": "markdown",
      "metadata": {
        "id": "rPZo8LY_bFzY"
      },
      "source": [
        "Forward"
      ]
    },
    {
      "cell_type": "code",
      "execution_count": null,
      "metadata": {
        "id": "DlK09aswVaWO"
      },
      "outputs": [],
      "source": [
        "def forward(context_idxs, theta):\n",
        "  m = embeddings[context_idxs].reshape(1,-1)\n",
        "  n = linear(m, theta)\n",
        "  o = log_softmax(n)\n",
        "  return m, n, o"
      ]
    },
    {
      "cell_type": "markdown",
      "metadata": {
        "id": "dik4vv7fbIRt"
      },
      "source": [
        "Backward"
      ]
    },
    {
      "cell_type": "code",
      "execution_count": null,
      "metadata": {
        "id": "E-8YHO7aVrK2"
      },
      "outputs": [],
      "source": [
        "def backward(preds, theta, target_idxs):\n",
        "  m, n, o = preds\n",
        "\n",
        "  dlog = cross_entropy(n, target_idxs)\n",
        "  dw = m.T.dot(dlog)\n",
        "  return dw"
      ]
    },
    {
      "cell_type": "markdown",
      "metadata": {
        "id": "hZgMLq4cc7iK"
      },
      "source": [
        "Optimizer"
      ]
    },
    {
      "cell_type": "code",
      "execution_count": null,
      "metadata": {
        "id": "wFS03mhSV5lj"
      },
      "outputs": [],
      "source": [
        "def optimize(theta, grad, lr=0.03):\n",
        "  theta -= grad * lr\n",
        "  return theta"
      ]
    },
    {
      "cell_type": "markdown",
      "metadata": {
        "id": "m4036QSTc-G5"
      },
      "source": [
        "Training"
      ]
    },
    {
      "cell_type": "code",
      "execution_count": null,
      "metadata": {
        "id": "5OPPP4IdWDnj"
      },
      "outputs": [],
      "source": [
        "theta = np.random.uniform(-1, 1, (2*context_size*embed_dim, vocab_size))"
      ]
    },
    {
      "cell_type": "code",
      "execution_count": null,
      "metadata": {
        "id": "UsuuZnUUWO-G"
      },
      "outputs": [],
      "source": [
        "epoch_losses = {}\n",
        "\n",
        "for epoch in range(80):\n",
        "  losses = []\n",
        "  for context, target in data:\n",
        "    context_idxs = np.array([word_to_ix[w] for w in context])\n",
        "    preds = forward(context_idxs, theta)\n",
        "\n",
        "    target_idxs = np.array([word_to_ix[target]])\n",
        "    loss = NLLLoss(preds[-1], target_idxs)\n",
        "\n",
        "    losses.append(loss)\n",
        "\n",
        "    grad = backward(preds, theta, target_idxs)\n",
        "    theta  = optimize(theta, grad, lr=0.03)\n",
        "  epoch_losses[epoch] = losses"
      ]
    },
    {
      "cell_type": "markdown",
      "metadata": {
        "id": "u0Vu55EtdAIp"
      },
      "source": [
        "Evalutaion"
      ]
    },
    {
      "cell_type": "code",
      "execution_count": null,
      "metadata": {
        "colab": {
          "base_uri": "https://localhost:8080/",
          "height": 329
        },
        "id": "qB-I1FQuZTtS",
        "outputId": "f08c7cd7-c08d-44b8-ca9d-2483ae3fd947"
      },
      "outputs": [
        {
          "data": {
            "text/plain": [
              "Text(0, 0.5, 'Losses')"
            ]
          },
          "execution_count": 40,
          "metadata": {},
          "output_type": "execute_result"
        },
        {
          "data": {
            "image/png": "[encoded data removed]",
            "text/plain": [
              "<Figure size 432x288 with 1 Axes>"
            ]
          },
          "metadata": {
            "needs_background": "light"
          },
          "output_type": "display_data"
        }
      ],
      "source": [
        "ix = np.arange(0,80)\n",
        "\n",
        "fig = plt.figure()\n",
        "fig.suptitle('Epoch/Losses', fontsize=20)\n",
        "plt.plot(ix,[epoch_losses[i][0] for i in ix])\n",
        "plt.xlabel('Epochs', fontsize=12)\n",
        "plt.ylabel('Losses', fontsize=12)"
      ]
    },
    {
      "cell_type": "markdown",
      "metadata": {
        "id": "k6UZ3vdLdCmz"
      },
      "source": [
        "Prediction"
      ]
    },
    {
      "cell_type": "code",
      "execution_count": null,
      "metadata": {
        "id": "qOdPzVAeZfHF"
      },
      "outputs": [],
      "source": [
        "def predict(words):\n",
        "    context_idxs = np.array([word_to_ix[w] for w in words])\n",
        "    preds = forward(context_idxs, theta)\n",
        "    word = ix_to_word[np.argmax(preds[-1])]\n",
        "    \n",
        "    return word"
      ]
    },
    {
      "cell_type": "code",
      "execution_count": null,
      "metadata": {
        "colab": {
          "base_uri": "https://localhost:8080/",
          "height": 36
        },
        "id": "UeZsTNiiZgLS",
        "outputId": "9eace37e-d796-4e06-afde-0bc4d1c3bf10"
      },
      "outputs": [
        {
          "data": {
            "application/vnd.google.colaboratory.intrinsic+json": {
              "type": "string"
            },
            "text/plain": [
              "'when'"
            ]
          },
          "execution_count": 42,
          "metadata": {},
          "output_type": "execute_result"
        }
      ],
      "source": [
        "predict(['was', 'time', 'he', 'would'])"
      ]
    },
    {
      "cell_type": "markdown",
      "metadata": {
        "id": "raKHSJVFdK9c"
      },
      "source": [
        "Accuracy"
      ]
    },
    {
      "cell_type": "code",
      "execution_count": null,
      "metadata": {
        "id": "ADWKpoqhZqjs"
      },
      "outputs": [],
      "source": [
        "def accuracy():\n",
        "    wrong = 0\n",
        "\n",
        "    for context, target in data:\n",
        "        if(predict(context) != target):\n",
        "            wrong += 1\n",
        "            \n",
        "    return (1 - (wrong / len(data)))"
      ]
    },
    {
      "cell_type": "code",
      "execution_count": null,
      "metadata": {
        "colab": {
          "base_uri": "https://localhost:8080/"
        },
        "id": "WETAWAvzZtWK",
        "outputId": "90eafea5-79ed-4b1b-92c1-71634d6b3d17"
      },
      "outputs": [
        {
          "data": {
            "text/plain": [
              "1.0"
            ]
          },
          "execution_count": 44,
          "metadata": {},
          "output_type": "execute_result"
        }
      ],
      "source": [
        "accuracy()"
      ]
    }
  ],
  "metadata": {
    "colab": {
      "provenance": []
    },
    "kernelspec": {
      "display_name": "Python 3 (ipykernel)",
      "language": "python",
      "name": "python3"
    },
    "language_info": {
      "codemirror_mode": {
        "name": "ipython",
        "version": 3
      },
      "file_extension": ".py",
      "mimetype": "text/x-python",
      "name": "python",
      "nbconvert_exporter": "python",
      "pygments_lexer": "ipython3",
      "version": "3.9.7"
    }
  },
  "nbformat": 4,
  "nbformat_minor": 0
}