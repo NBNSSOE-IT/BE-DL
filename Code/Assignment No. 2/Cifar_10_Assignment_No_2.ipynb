{
 "cells": [
  {
   "cell_type": "code",
   "execution_count": 27,
   "id": "204e5be5",
   "metadata": {
    "colab": {
     "base_uri": "https://localhost:8080/",
     "height": 340
    },
    "id": "204e5be5",
    "outputId": "bf26c811-d76e-40e0-987e-dc774e4229f6",
    "scrolled": false
   },
   "outputs": [],
   "source": [
    "import tensorflow as tf\n",
    "import matplotlib.pyplot as plt\n",
    "import random\n",
    "import numpy as np"
   ]
  },
  {
   "cell_type": "markdown",
   "id": "41417882",
   "metadata": {
    "id": "41417882"
   },
   "source": [
    "CIFAR-10"
   ]
  },
  {
   "cell_type": "code",
   "execution_count": 2,
   "id": "d7820136",
   "metadata": {
    "id": "d7820136"
   },
   "outputs": [],
   "source": [
    "dataset = tf.keras.datasets.cifar10"
   ]
  },
  {
   "cell_type": "code",
   "execution_count": 3,
   "id": "92da3910",
   "metadata": {
    "id": "92da3910"
   },
   "outputs": [],
   "source": [
    "(x_train, y_train), (x_test, y_test) = dataset.load_data()"
   ]
  },
  {
   "cell_type": "code",
   "execution_count": 65,
   "id": "81686b99",
   "metadata": {},
   "outputs": [],
   "source": [
    "labels = [\"airplane\", \"automobile\", \"bird\", \"cat\", \"deer\", \"dog\", \"frog\", \"horse\", \"ship\", \"truck\"]\n",
    "labels_dict = {i:name for i, name in enumerate(labels)}"
   ]
  },
  {
   "cell_type": "code",
   "execution_count": 66,
   "id": "fda46f20",
   "metadata": {},
   "outputs": [
    {
     "data": {
      "text/plain": [
       "{0: 'airplane',\n",
       " 1: 'automobile',\n",
       " 2: 'bird',\n",
       " 3: 'cat',\n",
       " 4: 'deer',\n",
       " 5: 'dog',\n",
       " 6: 'frog',\n",
       " 7: 'horse',\n",
       " 8: 'ship',\n",
       " 9: 'truck'}"
      ]
     },
     "execution_count": 66,
     "metadata": {},
     "output_type": "execute_result"
    }
   ],
   "source": [
    "labels_dict"
   ]
  },
  {
   "cell_type": "code",
   "execution_count": 4,
   "id": "0a31f52b",
   "metadata": {
    "id": "0a31f52b"
   },
   "outputs": [
    {
     "data": {
      "text/plain": [
       "(50000, 32, 32, 3)"
      ]
     },
     "execution_count": 4,
     "metadata": {},
     "output_type": "execute_result"
    }
   ],
   "source": [
    "x_train.shape"
   ]
  },
  {
   "cell_type": "code",
   "execution_count": 13,
   "id": "15608e77",
   "metadata": {
    "scrolled": true
   },
   "outputs": [
    {
     "data": {
      "text/plain": [
       "(10000, 32, 32, 3)"
      ]
     },
     "execution_count": 13,
     "metadata": {},
     "output_type": "execute_result"
    }
   ],
   "source": [
    "x_test.shape"
   ]
  },
  {
   "cell_type": "code",
   "execution_count": 5,
   "id": "e166c1b6",
   "metadata": {
    "id": "e166c1b6"
   },
   "outputs": [],
   "source": [
    "x_train, x_test = x_train/255, x_test/255 "
   ]
  },
  {
   "cell_type": "code",
   "execution_count": 6,
   "id": "55a7c3a9",
   "metadata": {
    "id": "55a7c3a9"
   },
   "outputs": [],
   "source": [
    "model = tf.keras.models.Sequential([\n",
    "    tf.keras.layers.Conv2D(32, (3,3), input_shape=(32,32,3), activation=\"relu\"),\n",
    "    tf.keras.layers.MaxPool2D((2,2)),\n",
    "    tf.keras.layers.Conv2D(64, (2,2)),\n",
    "    tf.keras.layers.MaxPool2D((2,2)),\n",
    "    tf.keras.layers.Flatten(),\n",
    "    tf.keras.layers.Dense(128, activation=\"relu\"),\n",
    "    tf.keras.layers.Dropout(0.4),\n",
    "    tf.keras.layers.Dense(32, activation=\"relu\"),\n",
    "    tf.keras.layers.Dropout(0.2),\n",
    "    tf.keras.layers.Dense(10, activation=\"sigmoid\")\n",
    "    ])"
   ]
  },
  {
   "cell_type": "code",
   "execution_count": 9,
   "id": "89954e70",
   "metadata": {
    "id": "89954e70"
   },
   "outputs": [],
   "source": [
    "sgd = tf.keras.optimizers.SGD(learning_rate=0.01,momentum=0.01)"
   ]
  },
  {
   "cell_type": "code",
   "execution_count": 10,
   "id": "0b02eac0",
   "metadata": {
    "id": "0b02eac0"
   },
   "outputs": [],
   "source": [
    "model.compile(optimizer=sgd, loss=tf.keras.losses.SparseCategoricalCrossentropy(from_logits=True), metrics=[\"accuracy\"])"
   ]
  },
  {
   "cell_type": "code",
   "execution_count": 11,
   "id": "a9c6825f",
   "metadata": {
    "id": "a9c6825f"
   },
   "outputs": [
    {
     "name": "stdout",
     "output_type": "stream",
     "text": [
      "Epoch 1/10\n"
     ]
    },
    {
     "name": "stderr",
     "output_type": "stream",
     "text": [
      "C:\\Users\\Akhil\\anaconda3\\lib\\site-packages\\keras\\backend.py:5582: UserWarning: \"`sparse_categorical_crossentropy` received `from_logits=True`, but the `output` argument was produced by a Softmax activation and thus does not represent logits. Was this intended?\n",
      "  output, from_logits = _get_logits(\n"
     ]
    },
    {
     "name": "stdout",
     "output_type": "stream",
     "text": [
      "25/25 [==============================] - 16s 209ms/step - loss: 2.3017 - accuracy: 0.1084 - val_loss: 2.2924 - val_accuracy: 0.1382\n",
      "Epoch 2/10\n",
      "25/25 [==============================] - 3s 105ms/step - loss: 2.2935 - accuracy: 0.1201 - val_loss: 2.2858 - val_accuracy: 0.1338\n",
      "Epoch 3/10\n",
      "25/25 [==============================] - 3s 107ms/step - loss: 2.2870 - accuracy: 0.1263 - val_loss: 2.2789 - val_accuracy: 0.1365\n",
      "Epoch 4/10\n",
      "25/25 [==============================] - 3s 106ms/step - loss: 2.2825 - accuracy: 0.1308 - val_loss: 2.2719 - val_accuracy: 0.1408\n",
      "Epoch 5/10\n",
      "25/25 [==============================] - 3s 105ms/step - loss: 2.2753 - accuracy: 0.1395 - val_loss: 2.2640 - val_accuracy: 0.1487\n",
      "Epoch 6/10\n",
      "25/25 [==============================] - 3s 105ms/step - loss: 2.2684 - accuracy: 0.1451 - val_loss: 2.2549 - val_accuracy: 0.1564\n",
      "Epoch 7/10\n",
      "25/25 [==============================] - 3s 107ms/step - loss: 2.2606 - accuracy: 0.1527 - val_loss: 2.2437 - val_accuracy: 0.1695\n",
      "Epoch 8/10\n",
      "25/25 [==============================] - 3s 107ms/step - loss: 2.2507 - accuracy: 0.1561 - val_loss: 2.2301 - val_accuracy: 0.1857\n",
      "Epoch 9/10\n",
      "25/25 [==============================] - 3s 105ms/step - loss: 2.2384 - accuracy: 0.1677 - val_loss: 2.2151 - val_accuracy: 0.2021\n",
      "Epoch 10/10\n",
      "25/25 [==============================] - 3s 107ms/step - loss: 2.2267 - accuracy: 0.1724 - val_loss: 2.1994 - val_accuracy: 0.2145\n"
     ]
    }
   ],
   "source": [
    "history = model.fit(x_train, y_train, validation_data=(x_test, y_test), batch_size=2000, epochs=10)"
   ]
  },
  {
   "cell_type": "markdown",
   "id": "DZ6d-rU9wtZt",
   "metadata": {
    "id": "DZ6d-rU9wtZt"
   },
   "source": [
    "Loss"
   ]
  },
  {
   "cell_type": "code",
   "execution_count": 14,
   "id": "8682d3ea",
   "metadata": {
    "id": "8682d3ea"
   },
   "outputs": [
    {
     "data": {
      "image/png": "[encoded data removed]",
      "text/plain": [
       "<Figure size 432x288 with 1 Axes>"
      ]
     },
     "metadata": {
      "needs_background": "light"
     },
     "output_type": "display_data"
    }
   ],
   "source": [
    "    plt.figure()\n",
    "    plt.plot(history.history[\"loss\"], label=\"Loss\")\n",
    "    plt.plot(history.history[\"val_loss\"], label=\"Validation loss\")\n",
    "    plt.xlabel(\"Epochs\")\n",
    "    plt.ylabel(\"Losses\")\n",
    "    plt.legend()\n",
    "    plt.show()"
   ]
  },
  {
   "cell_type": "markdown",
   "id": "BCauzvEgzE1P",
   "metadata": {
    "id": "BCauzvEgzE1P"
   },
   "source": [
    "Accuracy"
   ]
  },
  {
   "cell_type": "code",
   "execution_count": 15,
   "id": "fTrZ2HNAzLIM",
   "metadata": {
    "id": "fTrZ2HNAzLIM"
   },
   "outputs": [
    {
     "data": {
      "image/png": "[encoded data removed]",
      "text/plain": [
       "<Figure size 432x288 with 1 Axes>"
      ]
     },
     "metadata": {
      "needs_background": "light"
     },
     "output_type": "display_data"
    }
   ],
   "source": [
    "plt.figure()\n",
    "plt.plot(history.history[\"accuracy\"], label=\"Accuracy\")\n",
    "plt.plot(history.history[\"val_accuracy\"], label=\"Validation Accuracy\")\n",
    "plt.xlabel(\"Epochs\")\n",
    "plt.ylabel(\"Accuracy\")\n",
    "plt.legend()\n",
    "plt.show()"
   ]
  },
  {
   "cell_type": "markdown",
   "id": "ddaf5565",
   "metadata": {},
   "source": [
    "Prediction"
   ]
  },
  {
   "cell_type": "code",
   "execution_count": 41,
   "id": "691f670b",
   "metadata": {},
   "outputs": [],
   "source": [
    "test = random.randint(1,10000)\n",
    "test = x_test[:1]"
   ]
  },
  {
   "cell_type": "code",
   "execution_count": 42,
   "id": "9d7f607f",
   "metadata": {},
   "outputs": [
    {
     "data": {
      "text/plain": [
       "(1, 32, 32, 3)"
      ]
     },
     "execution_count": 42,
     "metadata": {},
     "output_type": "execute_result"
    }
   ],
   "source": [
    "test.shape"
   ]
  },
  {
   "cell_type": "code",
   "execution_count": 43,
   "id": "03b469be",
   "metadata": {
    "scrolled": false
   },
   "outputs": [
    {
     "data": {
      "text/plain": [
       "<matplotlib.image.AxesImage at 0x25f5608f460>"
      ]
     },
     "execution_count": 43,
     "metadata": {},
     "output_type": "execute_result"
    },
    {
     "data": {
      "image/png": "[encoded data removed]",
      "text/plain": [
       "<Figure size 432x288 with 1 Axes>"
      ]
     },
     "metadata": {
      "needs_background": "light"
     },
     "output_type": "display_data"
    }
   ],
   "source": [
    "plt.imshow(test[0])"
   ]
  },
  {
   "cell_type": "code",
   "execution_count": 44,
   "id": "b2ec392b",
   "metadata": {},
   "outputs": [
    {
     "data": {
      "text/plain": [
       "(1, 32, 32, 3)"
      ]
     },
     "execution_count": 44,
     "metadata": {},
     "output_type": "execute_result"
    }
   ],
   "source": [
    "test.shape"
   ]
  },
  {
   "cell_type": "code",
   "execution_count": 45,
   "id": "e1c79310",
   "metadata": {},
   "outputs": [
    {
     "name": "stdout",
     "output_type": "stream",
     "text": [
      "1/1 [==============================] - 0s 298ms/step\n"
     ]
    }
   ],
   "source": [
    "pred = model.predict(test)"
   ]
  },
  {
   "cell_type": "code",
   "execution_count": 72,
   "id": "d046d1a9",
   "metadata": {},
   "outputs": [],
   "source": [
    "pred = np.argmax(pred).astype(\"int32\")"
   ]
  },
  {
   "cell_type": "code",
   "execution_count": 73,
   "id": "647c0fab",
   "metadata": {},
   "outputs": [
    {
     "data": {
      "text/plain": [
       "'cat'"
      ]
     },
     "execution_count": 73,
     "metadata": {},
     "output_type": "execute_result"
    }
   ],
   "source": [
    "labels_dict[pred]"
   ]
  }
 ],
 "metadata": {
  "accelerator": "GPU",
  "colab": {
   "collapsed_sections": [],
   "provenance": []
  },
  "gpuClass": "standard",
  "kernelspec": {
   "display_name": "Python 3 (ipykernel)",
   "language": "python",
   "name": "python3"
  },
  "language_info": {
   "codemirror_mode": {
    "name": "ipython",
    "version": 3
   },
   "file_extension": ".py",
   "mimetype": "text/x-python",
   "name": "python",
   "nbconvert_exporter": "python",
   "pygments_lexer": "ipython3",
   "version": "3.9.7"
  }
 },
 "nbformat": 4,
 "nbformat_minor": 5
}
